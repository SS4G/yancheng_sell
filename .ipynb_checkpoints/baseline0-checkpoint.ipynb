{
 "cells": [
  {
   "cell_type": "code",
   "execution_count": 37,
   "metadata": {
    "collapsed": true
   },
   "outputs": [],
   "source": [
    "import pandas as pd\n",
    "import numpy as np\n",
    "import matplotlib.pyplot as plt\n",
    "%matplotlib inline"
   ]
  },
  {
   "cell_type": "code",
   "execution_count": 38,
   "metadata": {
    "collapsed": false
   },
   "outputs": [
    {
     "name": "stderr",
     "output_type": "stream",
     "text": [
      "/home/szh-921/app_installed/anaconda3/lib/python3.6/site-packages/IPython/core/interactiveshell.py:2728: DtypeWarning: Columns (15,20) have mixed types. Specify dtype option on import or set low_memory=False.\n",
      "  interactivity=interactivity, compiler=compiler, result=result)\n"
     ]
    }
   ],
   "source": [
    "trainDf = pd.read_csv(\"yancheng_train.csv\")\n",
    "testDf = pd.read_csv(\"yancheng_test.csv\")"
   ]
  },
  {
   "cell_type": "code",
   "execution_count": 39,
   "metadata": {
    "collapsed": false
   },
   "outputs": [
    {
     "data": {
      "text/html": [
       "<div>\n",
       "<table border=\"1\" class=\"dataframe\">\n",
       "  <thead>\n",
       "    <tr style=\"text-align: right;\">\n",
       "      <th></th>\n",
       "      <th>sale_date</th>\n",
       "      <th>class_id</th>\n",
       "      <th>sale_quantity</th>\n",
       "      <th>brand_id</th>\n",
       "      <th>compartment</th>\n",
       "      <th>type_id</th>\n",
       "      <th>level_id</th>\n",
       "      <th>department_id</th>\n",
       "      <th>TR</th>\n",
       "      <th>gearbox_type</th>\n",
       "      <th>...</th>\n",
       "      <th>engine_torque</th>\n",
       "      <th>car_length</th>\n",
       "      <th>car_width</th>\n",
       "      <th>car_height</th>\n",
       "      <th>total_quality</th>\n",
       "      <th>equipment_quality</th>\n",
       "      <th>rated_passenger</th>\n",
       "      <th>wheelbase</th>\n",
       "      <th>front_track</th>\n",
       "      <th>rear_track</th>\n",
       "    </tr>\n",
       "  </thead>\n",
       "  <tbody>\n",
       "    <tr>\n",
       "      <th>0</th>\n",
       "      <td>201609</td>\n",
       "      <td>289403</td>\n",
       "      <td>94</td>\n",
       "      <td>12</td>\n",
       "      <td>2</td>\n",
       "      <td>1</td>\n",
       "      <td>1</td>\n",
       "      <td>1</td>\n",
       "      <td>6</td>\n",
       "      <td>MT</td>\n",
       "      <td>...</td>\n",
       "      <td>170</td>\n",
       "      <td>4440</td>\n",
       "      <td>1833</td>\n",
       "      <td>1545</td>\n",
       "      <td>1695</td>\n",
       "      <td>1320</td>\n",
       "      <td>5</td>\n",
       "      <td>2700</td>\n",
       "      <td>1556</td>\n",
       "      <td>1562</td>\n",
       "    </tr>\n",
       "    <tr>\n",
       "      <th>1</th>\n",
       "      <td>201609</td>\n",
       "      <td>745137</td>\n",
       "      <td>435</td>\n",
       "      <td>637</td>\n",
       "      <td>3</td>\n",
       "      <td>2</td>\n",
       "      <td>1</td>\n",
       "      <td>2</td>\n",
       "      <td>6</td>\n",
       "      <td>DCT</td>\n",
       "      <td>...</td>\n",
       "      <td>159</td>\n",
       "      <td>4534</td>\n",
       "      <td>1823</td>\n",
       "      <td>1483</td>\n",
       "      <td>1711</td>\n",
       "      <td>1336</td>\n",
       "      <td>5</td>\n",
       "      <td>2648</td>\n",
       "      <td>1553</td>\n",
       "      <td>1544</td>\n",
       "    </tr>\n",
       "  </tbody>\n",
       "</table>\n",
       "<p>2 rows × 32 columns</p>\n",
       "</div>"
      ],
      "text/plain": [
       "   sale_date  class_id  sale_quantity  brand_id  compartment  type_id  \\\n",
       "0     201609    289403             94        12            2        1   \n",
       "1     201609    745137            435       637            3        2   \n",
       "\n",
       "  level_id  department_id TR gearbox_type     ...      engine_torque  \\\n",
       "0        1              1  6           MT     ...                170   \n",
       "1        1              2  6          DCT     ...                159   \n",
       "\n",
       "  car_length car_width car_height  total_quality equipment_quality  \\\n",
       "0       4440      1833       1545           1695              1320   \n",
       "1       4534      1823       1483           1711              1336   \n",
       "\n",
       "   rated_passenger  wheelbase  front_track  rear_track  \n",
       "0                5       2700         1556        1562  \n",
       "1                5       2648         1553        1544  \n",
       "\n",
       "[2 rows x 32 columns]"
      ]
     },
     "execution_count": 39,
     "metadata": {},
     "output_type": "execute_result"
    }
   ],
   "source": [
    "trainDf .head(2)"
   ]
  },
  {
   "cell_type": "code",
   "execution_count": 40,
   "metadata": {
    "collapsed": false
   },
   "outputs": [
    {
     "data": {
      "text/html": [
       "<div>\n",
       "<table border=\"1\" class=\"dataframe\">\n",
       "  <thead>\n",
       "    <tr style=\"text-align: right;\">\n",
       "      <th></th>\n",
       "      <th>predict_date</th>\n",
       "      <th>class_id</th>\n",
       "      <th>predict_quantity</th>\n",
       "    </tr>\n",
       "  </thead>\n",
       "  <tbody>\n",
       "    <tr>\n",
       "      <th>0</th>\n",
       "      <td>201711</td>\n",
       "      <td>103507</td>\n",
       "      <td>NaN</td>\n",
       "    </tr>\n",
       "    <tr>\n",
       "      <th>1</th>\n",
       "      <td>201711</td>\n",
       "      <td>124140</td>\n",
       "      <td>NaN</td>\n",
       "    </tr>\n",
       "  </tbody>\n",
       "</table>\n",
       "</div>"
      ],
      "text/plain": [
       "   predict_date  class_id  predict_quantity\n",
       "0        201711    103507               NaN\n",
       "1        201711    124140               NaN"
      ]
     },
     "execution_count": 40,
     "metadata": {},
     "output_type": "execute_result"
    }
   ],
   "source": [
    "testDf.head(2)"
   ]
  },
  {
   "cell_type": "code",
   "execution_count": 41,
   "metadata": {
    "collapsed": false
   },
   "outputs": [
    {
     "name": "stdout",
     "output_type": "stream",
     "text": [
      "<class 'pandas.core.frame.DataFrame'>\n",
      "RangeIndex: 20157 entries, 0 to 20156\n",
      "Data columns (total 32 columns):\n",
      "sale_date                20157 non-null int64\n",
      "class_id                 20157 non-null int64\n",
      "sale_quantity            20157 non-null int64\n",
      "brand_id                 20157 non-null int64\n",
      "compartment              20157 non-null int64\n",
      "type_id                  20157 non-null int64\n",
      "level_id                 20157 non-null object\n",
      "department_id            20157 non-null int64\n",
      "TR                       20157 non-null object\n",
      "gearbox_type             20157 non-null object\n",
      "displacement             20157 non-null float64\n",
      "if_charging              20157 non-null object\n",
      "price_level              20157 non-null object\n",
      "price                    20157 non-null object\n",
      "driven_type_id           20157 non-null int64\n",
      "fuel_type_id             20157 non-null object\n",
      "newenergy_type_id        20157 non-null int64\n",
      "emission_standards_id    20157 non-null int64\n",
      "if_MPV_id                20157 non-null int64\n",
      "if_luxurious_id          20157 non-null int64\n",
      "power                    20157 non-null object\n",
      "cylinder_number          20157 non-null int64\n",
      "engine_torque            20157 non-null object\n",
      "car_length               20157 non-null int64\n",
      "car_width                20157 non-null int64\n",
      "car_height               20157 non-null int64\n",
      "total_quality            20157 non-null int64\n",
      "equipment_quality        20157 non-null int64\n",
      "rated_passenger          20157 non-null object\n",
      "wheelbase                20157 non-null int64\n",
      "front_track              20157 non-null int64\n",
      "rear_track               20157 non-null int64\n",
      "dtypes: float64(1), int64(21), object(10)\n",
      "memory usage: 4.9+ MB\n"
     ]
    }
   ],
   "source": [
    "trainDf.info() # 无缺失值"
   ]
  },
  {
   "cell_type": "code",
   "execution_count": 42,
   "metadata": {
    "collapsed": false
   },
   "outputs": [
    {
     "data": {
      "text/plain": [
       "Index(['sale_date', 'class_id', 'sale_quantity', 'brand_id', 'compartment',\n",
       "       'type_id', 'level_id', 'department_id', 'TR', 'gearbox_type',\n",
       "       'displacement', 'if_charging', 'price_level', 'price', 'driven_type_id',\n",
       "       'fuel_type_id', 'newenergy_type_id', 'emission_standards_id',\n",
       "       'if_MPV_id', 'if_luxurious_id', 'power', 'cylinder_number',\n",
       "       'engine_torque', 'car_length', 'car_width', 'car_height',\n",
       "       'total_quality', 'equipment_quality', 'rated_passenger', 'wheelbase',\n",
       "       'front_track', 'rear_track'],\n",
       "      dtype='object')"
      ]
     },
     "execution_count": 42,
     "metadata": {},
     "output_type": "execute_result"
    }
   ],
   "source": [
    "trainDf.columns"
   ]
  },
  {
   "cell_type": "code",
   "execution_count": 43,
   "metadata": {
    "collapsed": false
   },
   "outputs": [
    {
     "data": {
      "text/plain": [
       "(70,)"
      ]
     },
     "execution_count": 43,
     "metadata": {},
     "output_type": "execute_result"
    }
   ],
   "source": [
    "trainDf[\"sale_date\"].unique().shape #70天的数据"
   ]
  },
  {
   "cell_type": "code",
   "execution_count": 44,
   "metadata": {
    "collapsed": false
   },
   "outputs": [
    {
     "data": {
      "text/plain": [
       "(36,)"
      ]
     },
     "execution_count": 44,
     "metadata": {},
     "output_type": "execute_result"
    }
   ],
   "source": [
    "trainDf[\"brand_id\"].unique().shape #36品牌"
   ]
  },
  {
   "cell_type": "code",
   "execution_count": 45,
   "metadata": {
    "collapsed": false
   },
   "outputs": [
    {
     "data": {
      "text/plain": [
       "(36,)"
      ]
     },
     "execution_count": 45,
     "metadata": {},
     "output_type": "execute_result"
    }
   ],
   "source": [
    "trainDf[\"brand_id\"].unique().shape #36品牌"
   ]
  },
  {
   "cell_type": "code",
   "execution_count": 46,
   "metadata": {
    "collapsed": false
   },
   "outputs": [
    {
     "data": {
      "text/html": [
       "<div>\n",
       "<table border=\"1\" class=\"dataframe\">\n",
       "  <thead>\n",
       "    <tr style=\"text-align: right;\">\n",
       "      <th></th>\n",
       "      <th>sale_date</th>\n",
       "      <th>class_id</th>\n",
       "      <th>sale_quantity</th>\n",
       "      <th>brand_id</th>\n",
       "      <th>compartment</th>\n",
       "      <th>type_id</th>\n",
       "      <th>department_id</th>\n",
       "      <th>displacement</th>\n",
       "      <th>driven_type_id</th>\n",
       "      <th>newenergy_type_id</th>\n",
       "      <th>...</th>\n",
       "      <th>if_luxurious_id</th>\n",
       "      <th>cylinder_number</th>\n",
       "      <th>car_length</th>\n",
       "      <th>car_width</th>\n",
       "      <th>car_height</th>\n",
       "      <th>total_quality</th>\n",
       "      <th>equipment_quality</th>\n",
       "      <th>wheelbase</th>\n",
       "      <th>front_track</th>\n",
       "      <th>rear_track</th>\n",
       "    </tr>\n",
       "  </thead>\n",
       "  <tbody>\n",
       "    <tr>\n",
       "      <th>count</th>\n",
       "      <td>20157.000000</td>\n",
       "      <td>20157.000000</td>\n",
       "      <td>20157.00000</td>\n",
       "      <td>20157.000000</td>\n",
       "      <td>20157.000000</td>\n",
       "      <td>20157.000000</td>\n",
       "      <td>20157.000000</td>\n",
       "      <td>20157.000000</td>\n",
       "      <td>20157.000000</td>\n",
       "      <td>20157.000000</td>\n",
       "      <td>...</td>\n",
       "      <td>20157.00000</td>\n",
       "      <td>20157.000000</td>\n",
       "      <td>20157.000000</td>\n",
       "      <td>20157.000000</td>\n",
       "      <td>20157.000000</td>\n",
       "      <td>20157.000000</td>\n",
       "      <td>20157.000000</td>\n",
       "      <td>20157.000000</td>\n",
       "      <td>20157.000000</td>\n",
       "      <td>20157.000000</td>\n",
       "    </tr>\n",
       "    <tr>\n",
       "      <th>mean</th>\n",
       "      <td>201490.186784</td>\n",
       "      <td>507410.234906</td>\n",
       "      <td>126.31205</td>\n",
       "      <td>643.293645</td>\n",
       "      <td>2.518033</td>\n",
       "      <td>1.860297</td>\n",
       "      <td>3.348316</td>\n",
       "      <td>1.728129</td>\n",
       "      <td>1.254552</td>\n",
       "      <td>1.008335</td>\n",
       "      <td>...</td>\n",
       "      <td>1.11971</td>\n",
       "      <td>4.038101</td>\n",
       "      <td>4577.579600</td>\n",
       "      <td>1790.405269</td>\n",
       "      <td>1552.624448</td>\n",
       "      <td>1876.938582</td>\n",
       "      <td>1414.852657</td>\n",
       "      <td>2706.141589</td>\n",
       "      <td>1538.063055</td>\n",
       "      <td>1538.027980</td>\n",
       "    </tr>\n",
       "    <tr>\n",
       "      <th>std</th>\n",
       "      <td>157.488965</td>\n",
       "      <td>234920.469728</td>\n",
       "      <td>231.13742</td>\n",
       "      <td>250.153093</td>\n",
       "      <td>0.528447</td>\n",
       "      <td>0.608067</td>\n",
       "      <td>1.552570</td>\n",
       "      <td>0.345978</td>\n",
       "      <td>0.562209</td>\n",
       "      <td>0.102218</td>\n",
       "      <td>...</td>\n",
       "      <td>0.32463</td>\n",
       "      <td>0.358240</td>\n",
       "      <td>266.704254</td>\n",
       "      <td>62.189750</td>\n",
       "      <td>124.673136</td>\n",
       "      <td>222.324373</td>\n",
       "      <td>208.956548</td>\n",
       "      <td>129.011827</td>\n",
       "      <td>55.662680</td>\n",
       "      <td>56.429887</td>\n",
       "    </tr>\n",
       "    <tr>\n",
       "      <th>min</th>\n",
       "      <td>201201.000000</td>\n",
       "      <td>103507.000000</td>\n",
       "      <td>5.00000</td>\n",
       "      <td>12.000000</td>\n",
       "      <td>1.000000</td>\n",
       "      <td>1.000000</td>\n",
       "      <td>1.000000</td>\n",
       "      <td>0.000000</td>\n",
       "      <td>1.000000</td>\n",
       "      <td>1.000000</td>\n",
       "      <td>...</td>\n",
       "      <td>1.00000</td>\n",
       "      <td>0.000000</td>\n",
       "      <td>3675.000000</td>\n",
       "      <td>1510.000000</td>\n",
       "      <td>1415.000000</td>\n",
       "      <td>1350.000000</td>\n",
       "      <td>925.000000</td>\n",
       "      <td>2360.000000</td>\n",
       "      <td>1280.000000</td>\n",
       "      <td>1290.000000</td>\n",
       "    </tr>\n",
       "    <tr>\n",
       "      <th>25%</th>\n",
       "      <td>201402.000000</td>\n",
       "      <td>304458.000000</td>\n",
       "      <td>16.00000</td>\n",
       "      <td>537.000000</td>\n",
       "      <td>2.000000</td>\n",
       "      <td>2.000000</td>\n",
       "      <td>2.000000</td>\n",
       "      <td>1.500000</td>\n",
       "      <td>1.000000</td>\n",
       "      <td>1.000000</td>\n",
       "      <td>...</td>\n",
       "      <td>1.00000</td>\n",
       "      <td>4.000000</td>\n",
       "      <td>4431.000000</td>\n",
       "      <td>1765.000000</td>\n",
       "      <td>1465.000000</td>\n",
       "      <td>1720.000000</td>\n",
       "      <td>1267.000000</td>\n",
       "      <td>2614.000000</td>\n",
       "      <td>1517.000000</td>\n",
       "      <td>1515.000000</td>\n",
       "    </tr>\n",
       "    <tr>\n",
       "      <th>50%</th>\n",
       "      <td>201506.000000</td>\n",
       "      <td>472603.000000</td>\n",
       "      <td>47.00000</td>\n",
       "      <td>750.000000</td>\n",
       "      <td>3.000000</td>\n",
       "      <td>2.000000</td>\n",
       "      <td>4.000000</td>\n",
       "      <td>1.600000</td>\n",
       "      <td>1.000000</td>\n",
       "      <td>1.000000</td>\n",
       "      <td>...</td>\n",
       "      <td>1.00000</td>\n",
       "      <td>4.000000</td>\n",
       "      <td>4598.000000</td>\n",
       "      <td>1802.000000</td>\n",
       "      <td>1484.000000</td>\n",
       "      <td>1835.000000</td>\n",
       "      <td>1390.000000</td>\n",
       "      <td>2690.000000</td>\n",
       "      <td>1549.000000</td>\n",
       "      <td>1550.000000</td>\n",
       "    </tr>\n",
       "    <tr>\n",
       "      <th>75%</th>\n",
       "      <td>201609.000000</td>\n",
       "      <td>692703.000000</td>\n",
       "      <td>142.00000</td>\n",
       "      <td>814.000000</td>\n",
       "      <td>3.000000</td>\n",
       "      <td>2.000000</td>\n",
       "      <td>4.000000</td>\n",
       "      <td>2.000000</td>\n",
       "      <td>1.000000</td>\n",
       "      <td>1.000000</td>\n",
       "      <td>...</td>\n",
       "      <td>1.00000</td>\n",
       "      <td>4.000000</td>\n",
       "      <td>4718.000000</td>\n",
       "      <td>1830.000000</td>\n",
       "      <td>1646.000000</td>\n",
       "      <td>2020.000000</td>\n",
       "      <td>1556.000000</td>\n",
       "      <td>2770.000000</td>\n",
       "      <td>1575.000000</td>\n",
       "      <td>1571.000000</td>\n",
       "    </tr>\n",
       "    <tr>\n",
       "      <th>max</th>\n",
       "      <td>201710.000000</td>\n",
       "      <td>978089.000000</td>\n",
       "      <td>6284.00000</td>\n",
       "      <td>985.000000</td>\n",
       "      <td>3.000000</td>\n",
       "      <td>4.000000</td>\n",
       "      <td>7.000000</td>\n",
       "      <td>3.600000</td>\n",
       "      <td>3.000000</td>\n",
       "      <td>4.000000</td>\n",
       "      <td>...</td>\n",
       "      <td>2.00000</td>\n",
       "      <td>6.000000</td>\n",
       "      <td>5266.000000</td>\n",
       "      <td>1942.000000</td>\n",
       "      <td>1960.000000</td>\n",
       "      <td>2520.000000</td>\n",
       "      <td>2005.000000</td>\n",
       "      <td>3108.000000</td>\n",
       "      <td>1655.000000</td>\n",
       "      <td>1671.000000</td>\n",
       "    </tr>\n",
       "  </tbody>\n",
       "</table>\n",
       "<p>8 rows × 22 columns</p>\n",
       "</div>"
      ],
      "text/plain": [
       "           sale_date       class_id  sale_quantity      brand_id  \\\n",
       "count   20157.000000   20157.000000    20157.00000  20157.000000   \n",
       "mean   201490.186784  507410.234906      126.31205    643.293645   \n",
       "std       157.488965  234920.469728      231.13742    250.153093   \n",
       "min    201201.000000  103507.000000        5.00000     12.000000   \n",
       "25%    201402.000000  304458.000000       16.00000    537.000000   \n",
       "50%    201506.000000  472603.000000       47.00000    750.000000   \n",
       "75%    201609.000000  692703.000000      142.00000    814.000000   \n",
       "max    201710.000000  978089.000000     6284.00000    985.000000   \n",
       "\n",
       "        compartment       type_id  department_id  displacement  \\\n",
       "count  20157.000000  20157.000000   20157.000000  20157.000000   \n",
       "mean       2.518033      1.860297       3.348316      1.728129   \n",
       "std        0.528447      0.608067       1.552570      0.345978   \n",
       "min        1.000000      1.000000       1.000000      0.000000   \n",
       "25%        2.000000      2.000000       2.000000      1.500000   \n",
       "50%        3.000000      2.000000       4.000000      1.600000   \n",
       "75%        3.000000      2.000000       4.000000      2.000000   \n",
       "max        3.000000      4.000000       7.000000      3.600000   \n",
       "\n",
       "       driven_type_id  newenergy_type_id      ...       if_luxurious_id  \\\n",
       "count    20157.000000       20157.000000      ...           20157.00000   \n",
       "mean         1.254552           1.008335      ...               1.11971   \n",
       "std          0.562209           0.102218      ...               0.32463   \n",
       "min          1.000000           1.000000      ...               1.00000   \n",
       "25%          1.000000           1.000000      ...               1.00000   \n",
       "50%          1.000000           1.000000      ...               1.00000   \n",
       "75%          1.000000           1.000000      ...               1.00000   \n",
       "max          3.000000           4.000000      ...               2.00000   \n",
       "\n",
       "       cylinder_number    car_length     car_width    car_height  \\\n",
       "count     20157.000000  20157.000000  20157.000000  20157.000000   \n",
       "mean          4.038101   4577.579600   1790.405269   1552.624448   \n",
       "std           0.358240    266.704254     62.189750    124.673136   \n",
       "min           0.000000   3675.000000   1510.000000   1415.000000   \n",
       "25%           4.000000   4431.000000   1765.000000   1465.000000   \n",
       "50%           4.000000   4598.000000   1802.000000   1484.000000   \n",
       "75%           4.000000   4718.000000   1830.000000   1646.000000   \n",
       "max           6.000000   5266.000000   1942.000000   1960.000000   \n",
       "\n",
       "       total_quality  equipment_quality     wheelbase   front_track  \\\n",
       "count   20157.000000       20157.000000  20157.000000  20157.000000   \n",
       "mean     1876.938582        1414.852657   2706.141589   1538.063055   \n",
       "std       222.324373         208.956548    129.011827     55.662680   \n",
       "min      1350.000000         925.000000   2360.000000   1280.000000   \n",
       "25%      1720.000000        1267.000000   2614.000000   1517.000000   \n",
       "50%      1835.000000        1390.000000   2690.000000   1549.000000   \n",
       "75%      2020.000000        1556.000000   2770.000000   1575.000000   \n",
       "max      2520.000000        2005.000000   3108.000000   1655.000000   \n",
       "\n",
       "         rear_track  \n",
       "count  20157.000000  \n",
       "mean    1538.027980  \n",
       "std       56.429887  \n",
       "min     1290.000000  \n",
       "25%     1515.000000  \n",
       "50%     1550.000000  \n",
       "75%     1571.000000  \n",
       "max     1671.000000  \n",
       "\n",
       "[8 rows x 22 columns]"
      ]
     },
     "execution_count": 46,
     "metadata": {},
     "output_type": "execute_result"
    }
   ],
   "source": [
    "trainDf.describe()"
   ]
  },
  {
   "cell_type": "code",
   "execution_count": 47,
   "metadata": {
    "collapsed": false
   },
   "outputs": [],
   "source": [
    "#trainDf[\"sale_date\"].value_counts()"
   ]
  },
  {
   "cell_type": "code",
   "execution_count": 48,
   "metadata": {
    "collapsed": false
   },
   "outputs": [
    {
     "data": {
      "text/plain": [
       "8780"
      ]
     },
     "execution_count": 48,
     "metadata": {},
     "output_type": "execute_result"
    }
   ],
   "source": [
    "(trainDf[\"price\"] == '-').sum()"
   ]
  },
  {
   "cell_type": "code",
   "execution_count": 49,
   "metadata": {
    "collapsed": false
   },
   "outputs": [
    {
     "data": {
      "text/plain": [
       "array([ 12, 637, 831, 750,  98, 537, 807, 638,  75, 106, 450, 872, 953,\n",
       "       985, 864, 304, 692, 761, 836, 290, 783, 814, 497, 813, 923, 512,\n",
       "       498, 841, 542, 236, 294,  49, 126,  68, 682,  76])"
      ]
     },
     "execution_count": 49,
     "metadata": {},
     "output_type": "execute_result"
    }
   ],
   "source": [
    "trainDf[\"brand_id\"].unique() #商标"
   ]
  },
  {
   "cell_type": "code",
   "execution_count": 50,
   "metadata": {
    "collapsed": false
   },
   "outputs": [
    {
     "data": {
      "text/plain": [
       "array([1, 2, 3, 4])"
      ]
     },
     "execution_count": 50,
     "metadata": {},
     "output_type": "execute_result"
    }
   ],
   "source": [
    "trainDf[\"type_id\"].unique() #四种车型"
   ]
  },
  {
   "cell_type": "code",
   "execution_count": 51,
   "metadata": {
    "collapsed": false
   },
   "outputs": [
    {
     "data": {
      "text/plain": [
       "array(['1', '2', '3', '4', '-', '5'], dtype=object)"
      ]
     },
     "execution_count": 51,
     "metadata": {},
     "output_type": "execute_result"
    }
   ],
   "source": [
    "trainDf[\"level_id\"].unique() #四种车型"
   ]
  },
  {
   "cell_type": "code",
   "execution_count": 52,
   "metadata": {
    "collapsed": false
   },
   "outputs": [
    {
     "data": {
      "text/plain": [
       "array([2, 3, 1])"
      ]
     },
     "execution_count": 52,
     "metadata": {},
     "output_type": "execute_result"
    }
   ],
   "source": [
    "trainDf[\"compartment\"].unique() #四种车型"
   ]
  },
  {
   "cell_type": "code",
   "execution_count": 53,
   "metadata": {
    "collapsed": false
   },
   "outputs": [
    {
     "name": "stdout",
     "output_type": "stream",
     "text": [
      "brand_id [ 12 637 831 750  98 537 807 638  75 106 450 872 953 985 864 304 692 761\n",
      " 836 290 783 814 497 813 923 512 498 841 542 236 294  49 126  68 682  76]\n",
      "compartment [2 3 1]\n",
      "type_id [1 2 3 4]\n",
      "level_id ['1' '2' '3' '4' '-' '5']\n",
      "department_id [1 2 3 4 5 6 7]\n",
      "TR ['6' '5' '0' '8' '7' '9' '4' '1' '8;7' '5;4']\n",
      "gearbox_type ['MT' 'DCT' 'AT' 'CVT' 'AMT' 'AT;DCT' 'MT;AT']\n",
      "displacement [ 1.8  1.6  1.5  2.   1.3  1.2  3.   2.5  1.4  1.   2.4  0.   2.7  1.1  2.3\n",
      "  2.8  3.1  1.9  3.6]\n",
      "if_charging ['L' 'T']\n",
      "price_level ['8-10W' '10-15W' '5WL' '15-20W' '5-8W' '25-35W' '35-50W' '20-25W' '50-75W']\n",
      "driven_type_id [1 2 3]\n",
      "fuel_type_id [1 2 3 4 '1' '2' '3' '-']\n",
      "newenergy_type_id [1 2 3 4]\n",
      "emission_standards_id [1 2 3 5]\n",
      "if_MPV_id [2 1]\n",
      "if_luxurious_id [1 2]\n",
      "cylinder_number [4 3 6 0]\n",
      "rated_passenger ['5' '7-8' '7' '6-7' '6-8' '4' '4-5' '5-7' '5-8' '9']\n"
     ]
    }
   ],
   "source": [
    "for col in trainDf.columns: #显示取值\n",
    "    if col not in [\"sale_quantity\", \"class_id\", \"sale_date\", \"price\", \"power\", \n",
    "                   \"total_quality\", \"engine_torque\", \"car_length\", \"car_width\",\n",
    "                  \"equipment_quality\", \"rear_track\", \"wheelbase\", \"front_track\",\n",
    "                  \"car_height\"]:\n",
    "        print(col, trainDf[col].unique())"
   ]
  },
  {
   "cell_type": "code",
   "execution_count": 54,
   "metadata": {
    "collapsed": false
   },
   "outputs": [
    {
     "data": {
      "text/plain": [
       "<matplotlib.axes._subplots.AxesSubplot at 0x7f403a1f27f0>"
      ]
     },
     "execution_count": 54,
     "metadata": {},
     "output_type": "execute_result"
    },
    {
     "data": {
      "image/png": "[encoded data removed]",
      "text/plain": [
       "<matplotlib.figure.Figure at 0x7f403a393080>"
      ]
     },
     "metadata": {},
     "output_type": "display_data"
    }
   ],
   "source": [
    "trainDf[\"brand_id\"].value_counts().plot(kind=\"bar\")"
   ]
  },
  {
   "cell_type": "code",
   "execution_count": 55,
   "metadata": {
    "collapsed": false
   },
   "outputs": [
    {
     "data": {
      "text/plain": [
       "<matplotlib.axes._subplots.AxesSubplot at 0x7f4039dfa630>"
      ]
     },
     "execution_count": 55,
     "metadata": {},
     "output_type": "execute_result"
    },
    {
     "data": {
      "image/png": "[encoded data removed]",
      "text/plain": [
       "<matplotlib.figure.Figure at 0x7f4039e7f908>"
      ]
     },
     "metadata": {},
     "output_type": "display_data"
    }
   ],
   "source": [
    "trainDf[\"brand_id\"].value_counts().plot(kind=\"bar\")"
   ]
  },
  {
   "cell_type": "code",
   "execution_count": 56,
   "metadata": {
    "collapsed": true
   },
   "outputs": [],
   "source": [
    "import lightgbm as lgb"
   ]
  },
  {
   "cell_type": "code",
   "execution_count": 58,
   "metadata": {
    "collapsed": false
   },
   "outputs": [],
   "source": [
    "trainFreatuers = [col for col in trainDf.columns if col not in [\"sale_date\", 'sale_quantity', 'class_id']]"
   ]
  },
  {
   "cell_type": "code",
   "execution_count": 65,
   "metadata": {
    "collapsed": false
   },
   "outputs": [
    {
     "data": {
      "text/html": [
       "<div>\n",
       "<table border=\"1\" class=\"dataframe\">\n",
       "  <thead>\n",
       "    <tr style=\"text-align: right;\">\n",
       "      <th></th>\n",
       "      <th>brand_id</th>\n",
       "      <th>compartment</th>\n",
       "      <th>type_id</th>\n",
       "      <th>level_id</th>\n",
       "      <th>department_id</th>\n",
       "      <th>TR</th>\n",
       "      <th>gearbox_type</th>\n",
       "      <th>displacement</th>\n",
       "      <th>if_charging</th>\n",
       "      <th>price_level</th>\n",
       "      <th>...</th>\n",
       "      <th>engine_torque</th>\n",
       "      <th>car_length</th>\n",
       "      <th>car_width</th>\n",
       "      <th>car_height</th>\n",
       "      <th>total_quality</th>\n",
       "      <th>equipment_quality</th>\n",
       "      <th>rated_passenger</th>\n",
       "      <th>wheelbase</th>\n",
       "      <th>front_track</th>\n",
       "      <th>rear_track</th>\n",
       "    </tr>\n",
       "  </thead>\n",
       "  <tbody>\n",
       "    <tr>\n",
       "      <th>0</th>\n",
       "      <td>12</td>\n",
       "      <td>2</td>\n",
       "      <td>1</td>\n",
       "      <td>1</td>\n",
       "      <td>1</td>\n",
       "      <td>6</td>\n",
       "      <td>MT</td>\n",
       "      <td>1.8</td>\n",
       "      <td>L</td>\n",
       "      <td>8-10W</td>\n",
       "      <td>...</td>\n",
       "      <td>170</td>\n",
       "      <td>4440</td>\n",
       "      <td>1833</td>\n",
       "      <td>1545</td>\n",
       "      <td>1695</td>\n",
       "      <td>1320</td>\n",
       "      <td>5</td>\n",
       "      <td>2700</td>\n",
       "      <td>1556</td>\n",
       "      <td>1562</td>\n",
       "    </tr>\n",
       "    <tr>\n",
       "      <th>1</th>\n",
       "      <td>637</td>\n",
       "      <td>3</td>\n",
       "      <td>2</td>\n",
       "      <td>1</td>\n",
       "      <td>2</td>\n",
       "      <td>6</td>\n",
       "      <td>DCT</td>\n",
       "      <td>1.6</td>\n",
       "      <td>L</td>\n",
       "      <td>10-15W</td>\n",
       "      <td>...</td>\n",
       "      <td>159</td>\n",
       "      <td>4534</td>\n",
       "      <td>1823</td>\n",
       "      <td>1483</td>\n",
       "      <td>1711</td>\n",
       "      <td>1336</td>\n",
       "      <td>5</td>\n",
       "      <td>2648</td>\n",
       "      <td>1553</td>\n",
       "      <td>1544</td>\n",
       "    </tr>\n",
       "  </tbody>\n",
       "</table>\n",
       "<p>2 rows × 29 columns</p>\n",
       "</div>"
      ],
      "text/plain": [
       "   brand_id  compartment  type_id level_id  department_id TR gearbox_type  \\\n",
       "0        12            2        1        1              1  6           MT   \n",
       "1       637            3        2        1              2  6          DCT   \n",
       "\n",
       "   displacement if_charging price_level    ...     engine_torque  car_length  \\\n",
       "0           1.8           L       8-10W    ...               170        4440   \n",
       "1           1.6           L      10-15W    ...               159        4534   \n",
       "\n",
       "  car_width  car_height  total_quality  equipment_quality  rated_passenger  \\\n",
       "0      1833        1545           1695               1320                5   \n",
       "1      1823        1483           1711               1336                5   \n",
       "\n",
       "  wheelbase  front_track rear_track  \n",
       "0      2700         1556       1562  \n",
       "1      2648         1553       1544  \n",
       "\n",
       "[2 rows x 29 columns]"
      ]
     },
     "execution_count": 65,
     "metadata": {},
     "output_type": "execute_result"
    }
   ],
   "source": [
    "trainSet = trainDf[trainFreatuers]\n",
    "labelCol = trainDf[\"sale_quantity\"]\n",
    "trainSet.head(2)"
   ]
  },
  {
   "cell_type": "code",
   "execution_count": 66,
   "metadata": {
    "collapsed": true
   },
   "outputs": [],
   "source": [
    "param = {'num_leaves':31, 'num_trees':100, 'objective':'regression'}\n",
    "param['metric'] = 'auc'"
   ]
  },
  {
   "cell_type": "code",
   "execution_count": 67,
   "metadata": {
    "collapsed": false
   },
   "outputs": [],
   "source": [
    "train_data = lgb.Dataset(trainSet, label=labelCol)"
   ]
  },
  {
   "cell_type": "code",
   "execution_count": null,
   "metadata": {
    "collapsed": true
   },
   "outputs": [],
   "source": [
    "num_round = 10\n",
    "bst = lgb.train(param, train_data, num_round, valid_sets=[test_data])"
   ]
  }
 ],
 "metadata": {
  "kernelspec": {
   "display_name": "Python 3",
   "language": "python",
   "name": "python3"
  },
  "language_info": {
   "codemirror_mode": {
    "name": "ipython",
    "version": 3
   },
   "file_extension": ".py",
   "mimetype": "text/x-python",
   "name": "python",
   "nbconvert_exporter": "python",
   "pygments_lexer": "ipython3",
   "version": "3.6.0"
  }
 },
 "nbformat": 4,
 "nbformat_minor": 2
}
